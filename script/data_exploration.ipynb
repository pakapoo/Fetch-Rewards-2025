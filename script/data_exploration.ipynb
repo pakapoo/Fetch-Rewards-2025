{
 "cells": [
  {
   "cell_type": "code",
   "execution_count": 125,
   "metadata": {},
   "outputs": [],
   "source": [
    "import json\n",
    "import copy\n",
    "import pandas as pd\n",
    "pd.set_option('display.max_columns', None)\n",
    "\n",
    "with open('../data/receipts.json') as f:\n",
    "    receipts = [json.loads(line) for line in f]\n",
    "\n",
    "with open('../data/users.json') as f:\n",
    "    users = [json.loads(line) for line in f]\n",
    "\n",
    "with open('../data/brands.json') as f:\n",
    "    brands = [json.loads(line) for line in f]\n"
   ]
  },
  {
   "cell_type": "markdown",
   "metadata": {},
   "source": [
    "### Create Receipts table\n",
    "1. Convert receipts.json to dataframe df_Receipts </br>\n",
    "2. Store to `../data/Receipts.csv`\n",
    "\n",
    "Note that the column 'rewardsReceiptItemList' is discarded due to normalization."
   ]
  },
  {
   "cell_type": "code",
   "execution_count": 126,
   "metadata": {},
   "outputs": [
    {
     "name": "stdout",
     "output_type": "stream",
     "text": [
      "{'createDate', 'dateScanned', 'purchaseDate', 'pointsEarned', 'finishedDate', 'pointsAwardedDate', 'modifyDate', 'bonusPointsEarned', 'totalSpent', 'rewardsReceiptStatus', '_id', 'bonusPointsEarnedReason', 'userId', 'purchasedItemCount'}\n",
      "                 createDate               dateScanned  \\\n",
      "0  {'$date': 1609687531000}  {'$date': 1609687531000}   \n",
      "1  {'$date': 1609687483000}  {'$date': 1609687483000}   \n",
      "2  {'$date': 1609687537000}  {'$date': 1609687537000}   \n",
      "3  {'$date': 1609687534000}  {'$date': 1609687534000}   \n",
      "4  {'$date': 1609687506000}  {'$date': 1609687506000}   \n",
      "\n",
      "               purchaseDate pointsEarned              finishedDate  \\\n",
      "0  {'$date': 1609632000000}        500.0  {'$date': 1609687531000}   \n",
      "1  {'$date': 1609601083000}        150.0  {'$date': 1609687483000}   \n",
      "2  {'$date': 1609632000000}            5                       NaN   \n",
      "3  {'$date': 1609632000000}          5.0  {'$date': 1609687534000}   \n",
      "4  {'$date': 1609601106000}          5.0  {'$date': 1609687511000}   \n",
      "\n",
      "          pointsAwardedDate                modifyDate  bonusPointsEarned  \\\n",
      "0  {'$date': 1609687531000}  {'$date': 1609687536000}              500.0   \n",
      "1  {'$date': 1609687483000}  {'$date': 1609687488000}              150.0   \n",
      "2                       NaN  {'$date': 1609687542000}                5.0   \n",
      "3  {'$date': 1609687534000}  {'$date': 1609687539000}                5.0   \n",
      "4  {'$date': 1609687506000}  {'$date': 1609687511000}                5.0   \n",
      "\n",
      "  totalSpent rewardsReceiptStatus                                   _id  \\\n",
      "0      26.00             FINISHED  {'$oid': '5ff1e1eb0a720f0523000575'}   \n",
      "1      11.00             FINISHED  {'$oid': '5ff1e1bb0a720f052300056b'}   \n",
      "2      10.00             REJECTED  {'$oid': '5ff1e1f10a720f052300057a'}   \n",
      "3      28.00             FINISHED  {'$oid': '5ff1e1ee0a7214ada100056f'}   \n",
      "4       1.00             FINISHED  {'$oid': '5ff1e1d20a7214ada1000561'}   \n",
      "\n",
      "                             bonusPointsEarnedReason  \\\n",
      "0  Receipt number 2 completed, bonus point schedu...   \n",
      "1  Receipt number 5 completed, bonus point schedu...   \n",
      "2                         All-receipts receipt bonus   \n",
      "3                         All-receipts receipt bonus   \n",
      "4                         All-receipts receipt bonus   \n",
      "\n",
      "                     userId  purchasedItemCount  \n",
      "0  5ff1e1eacfcf6c399c274ae6                 5.0  \n",
      "1  5ff1e194b6a9d73a3a9f1052                 2.0  \n",
      "2  5ff1e1f1cfcf6c399c274b0b                 1.0  \n",
      "3  5ff1e1eacfcf6c399c274ae6                 4.0  \n",
      "4  5ff1e194b6a9d73a3a9f1052                 2.0  \n"
     ]
    },
    {
     "name": "stderr",
     "output_type": "stream",
     "text": [
      "/var/folders/_8/71fcl_nn30vgcvyqdglmkhs00000gn/T/ipykernel_85512/4271756138.py:13: FutureWarning: The behavior of DataFrame concatenation with empty or all-NA entries is deprecated. In a future version, this will no longer exclude empty or all-NA columns when determining the result dtypes. To retain the old behavior, exclude the relevant entries before the concat operation.\n",
      "  df_Receipts = pd.concat([df_Receipts, pd.DataFrame(rows)], ignore_index=True)\n"
     ]
    }
   ],
   "source": [
    "columns = set()\n",
    "for record in receipts:\n",
    "    columns.update(record.keys())\n",
    "\n",
    "columns.discard('rewardsReceiptItemList')\n",
    "print(columns)\n",
    "df_Receipts = pd.DataFrame(columns=list(columns))\n",
    "_receipts = copy.deepcopy(receipts)\n",
    "rows = []\n",
    "for record in _receipts:\n",
    "    record.pop('rewardsReceiptItemList', None)\n",
    "    rows.append(record)\n",
    "df_Receipts = pd.concat([df_Receipts, pd.DataFrame(rows)], ignore_index=True)\n",
    "print(df_Receipts.head())\n",
    "\n",
    "df_Receipts.to_csv('../data/Receipts.csv')\n",
    "df_Receipts.to_pickle('../data/Receipts.pkl')"
   ]
  },
  {
   "cell_type": "markdown",
   "metadata": {},
   "source": [
    "### Create ReceiptItems table\n",
    "1. Convert receipts.json to dataframe df_ReceiptItems only for the rewardsReceiptItemList field </br>\n",
    "2. Store to `../data/ReceiptItems.csv`\n",
    "\n",
    "Note that each record may have different columns in rewardsReceiptItemList. Thus, we have to first get all column names that have appeared in the dataset and append data to the empty dataframe to ensure we have the correct structure."
   ]
  },
  {
   "cell_type": "code",
   "execution_count": 127,
   "metadata": {},
   "outputs": [
    {
     "name": "stdout",
     "output_type": "stream",
     "text": [
      "{'itemPrice', 'partnerItemId', 'originalReceiptItemText', 'pointsEarned', 'discountedItemPrice', 'rewardsGroup', 'userFlaggedBarcode', 'rewardsProductPartnerId', 'priceAfterCoupon', 'pointsNotAwardedReason', 'originalMetaBriteQuantityPurchased', 'targetPrice', 'receipt_id', 'pointsPayerId', 'barcode', 'originalMetaBriteBarcode', 'needsFetchReviewReason', 'userFlaggedNewItem', 'brandCode', 'description', 'quantityPurchased', 'metabriteCampaignId', 'itemNumber', 'preventTargetGapPoints', 'finalPrice', 'originalMetaBriteDescription', 'deleted', 'originalFinalPrice', 'originalMetaBriteItemPrice', 'competitiveProduct', 'needsFetchReview', 'userFlaggedPrice', 'userFlaggedQuantity', 'competitorRewardsGroup', 'userFlaggedDescription'}\n",
      "  itemPrice partnerItemId originalReceiptItemText pointsEarned  \\\n",
      "0     26.00             1                     NaN          NaN   \n",
      "1         1             1                     NaN          NaN   \n",
      "2     10.00             2                     NaN          NaN   \n",
      "3       NaN             1                     NaN          NaN   \n",
      "4     28.00             1                     NaN          NaN   \n",
      "\n",
      "  discountedItemPrice                            rewardsGroup  \\\n",
      "0                 NaN                                     NaN   \n",
      "1                 NaN                                     NaN   \n",
      "2                 NaN  DORITOS SPICY SWEET CHILI SINGLE SERVE   \n",
      "3                 NaN                                     NaN   \n",
      "4                 NaN                                     NaN   \n",
      "\n",
      "  userFlaggedBarcode   rewardsProductPartnerId priceAfterCoupon  \\\n",
      "0               4011                       NaN              NaN   \n",
      "1                NaN                       NaN              NaN   \n",
      "2       028400642255  5332f5fbe4b03c9a25efd0ba              NaN   \n",
      "3               4011                       NaN              NaN   \n",
      "4               4011                       NaN              NaN   \n",
      "\n",
      "                pointsNotAwardedReason  originalMetaBriteQuantityPurchased  \\\n",
      "0                                  NaN                                 NaN   \n",
      "1                                  NaN                                 NaN   \n",
      "2  Action not allowed for user and CPG                                 NaN   \n",
      "3                                  NaN                                 NaN   \n",
      "4                                  NaN                                 NaN   \n",
      "\n",
      "  targetPrice                receipt_id             pointsPayerId  \\\n",
      "0         NaN  5ff1e1eb0a720f0523000575                       NaN   \n",
      "1         NaN  5ff1e1bb0a720f052300056b                       NaN   \n",
      "2         NaN  5ff1e1bb0a720f052300056b  5332f5fbe4b03c9a25efd0ba   \n",
      "3         NaN  5ff1e1f10a720f052300057a                       NaN   \n",
      "4         NaN  5ff1e1ee0a7214ada100056f                       NaN   \n",
      "\n",
      "        barcode originalMetaBriteBarcode needsFetchReviewReason  \\\n",
      "0          4011                      NaN                    NaN   \n",
      "1          4011                      NaN                    NaN   \n",
      "2  028400642255                      NaN           USER_FLAGGED   \n",
      "3           NaN                      NaN                    NaN   \n",
      "4          4011                      NaN                    NaN   \n",
      "\n",
      "  userFlaggedNewItem brandCode  \\\n",
      "0               True       NaN   \n",
      "1                NaN       NaN   \n",
      "2               True       NaN   \n",
      "3               True       NaN   \n",
      "4               True       NaN   \n",
      "\n",
      "                                         description  quantityPurchased  \\\n",
      "0                                     ITEM NOT FOUND                5.0   \n",
      "1                                     ITEM NOT FOUND                1.0   \n",
      "2  DORITOS TORTILLA CHIP SPICY SWEET CHILI REDUCE...                1.0   \n",
      "3                                                NaN                NaN   \n",
      "4                                     ITEM NOT FOUND                4.0   \n",
      "\n",
      "  metabriteCampaignId itemNumber preventTargetGapPoints finalPrice  \\\n",
      "0                 NaN        NaN                   True      26.00   \n",
      "1                 NaN        NaN                    NaN          1   \n",
      "2                 NaN        NaN                   True      10.00   \n",
      "3                 NaN        NaN                   True        NaN   \n",
      "4                 NaN        NaN                   True      28.00   \n",
      "\n",
      "  originalMetaBriteDescription deleted originalFinalPrice  \\\n",
      "0                          NaN     NaN                NaN   \n",
      "1                          NaN     NaN                NaN   \n",
      "2                          NaN     NaN                NaN   \n",
      "3                          NaN     NaN                NaN   \n",
      "4                          NaN     NaN                NaN   \n",
      "\n",
      "  originalMetaBriteItemPrice competitiveProduct needsFetchReview  \\\n",
      "0                        NaN                NaN            False   \n",
      "1                        NaN                NaN              NaN   \n",
      "2                        NaN                NaN             True   \n",
      "3                        NaN                NaN            False   \n",
      "4                        NaN                NaN            False   \n",
      "\n",
      "  userFlaggedPrice  userFlaggedQuantity competitorRewardsGroup  \\\n",
      "0            26.00                  5.0                    NaN   \n",
      "1              NaN                  NaN                    NaN   \n",
      "2            10.00                  1.0                    NaN   \n",
      "3            26.00                  3.0                    NaN   \n",
      "4            28.00                  4.0                    NaN   \n",
      "\n",
      "                              userFlaggedDescription  \n",
      "0                                                NaN  \n",
      "1                                                NaN  \n",
      "2  DORITOS TORTILLA CHIP SPICY SWEET CHILI REDUCE...  \n",
      "3                                                NaN  \n",
      "4                                                NaN  \n"
     ]
    },
    {
     "name": "stderr",
     "output_type": "stream",
     "text": [
      "/var/folders/_8/71fcl_nn30vgcvyqdglmkhs00000gn/T/ipykernel_85512/1063274272.py:22: FutureWarning: The behavior of DataFrame concatenation with empty or all-NA entries is deprecated. In a future version, this will no longer exclude empty or all-NA columns when determining the result dtypes. To retain the old behavior, exclude the relevant entries before the concat operation.\n",
      "  df_ReceiptItems = pd.concat([df_ReceiptItems, pd.DataFrame(rows)], ignore_index=True)\n"
     ]
    }
   ],
   "source": [
    "# check all columns in the rewardsReceiptItemList\n",
    "columns = set()\n",
    "for record in receipts:\n",
    "    if 'rewardsReceiptItemList' in record:\n",
    "        rewardsReceiptItemList = record['rewardsReceiptItemList']\n",
    "        for item in rewardsReceiptItemList:\n",
    "            columns.update(item.keys())\n",
    "columns.update(['receipt_id'])\n",
    "print(columns)\n",
    "\n",
    "# append data from rewardsReceiptItemList to the dataframe\n",
    "df_ReceiptItems = pd.DataFrame(columns=list(columns))\n",
    "rows = []\n",
    "\n",
    "for record in receipts:\n",
    "    receipt_id = record['_id']['$oid']\n",
    "    if 'rewardsReceiptItemList' in record:\n",
    "        rewardsReceiptItemList = record['rewardsReceiptItemList']\n",
    "        for item in rewardsReceiptItemList:\n",
    "            item['receipt_id'] = receipt_id\n",
    "            rows.append(item)\n",
    "df_ReceiptItems = pd.concat([df_ReceiptItems, pd.DataFrame(rows)], ignore_index=True)\n",
    "print(df_ReceiptItems.head())\n",
    "\n",
    "df_ReceiptItems.to_csv('../data/ReceiptItems.csv')\n",
    "df_ReceiptItems.to_pickle('../data/ReceiptItems.pkl')"
   ]
  },
  {
   "cell_type": "markdown",
   "metadata": {},
   "source": [
    "### Create Users table\n",
    "1. Convert users.json file to dataframe df_Users </br>\n",
    "2. Store to `../data/Users.csv`"
   ]
  },
  {
   "cell_type": "code",
   "execution_count": 128,
   "metadata": {},
   "outputs": [
    {
     "name": "stdout",
     "output_type": "stream",
     "text": [
      "{'state', 'lastLogin', 'createdDate', '_id', 'active', 'signUpSource', 'role'}\n",
      "  state                 lastLogin               createdDate  \\\n",
      "0    WI  {'$date': 1609687537858}  {'$date': 1609687444800}   \n",
      "1    WI  {'$date': 1609687537858}  {'$date': 1609687444800}   \n",
      "2    WI  {'$date': 1609687537858}  {'$date': 1609687444800}   \n",
      "3    WI  {'$date': 1609687530597}  {'$date': 1609687530554}   \n",
      "4    WI  {'$date': 1609687537858}  {'$date': 1609687444800}   \n",
      "\n",
      "                                    _id active signUpSource      role  \n",
      "0  {'$oid': '5ff1e194b6a9d73a3a9f1052'}   True        Email  consumer  \n",
      "1  {'$oid': '5ff1e194b6a9d73a3a9f1052'}   True        Email  consumer  \n",
      "2  {'$oid': '5ff1e194b6a9d73a3a9f1052'}   True        Email  consumer  \n",
      "3  {'$oid': '5ff1e1eacfcf6c399c274ae6'}   True        Email  consumer  \n",
      "4  {'$oid': '5ff1e194b6a9d73a3a9f1052'}   True        Email  consumer  \n"
     ]
    }
   ],
   "source": [
    "columns = set()\n",
    "for record in users:\n",
    "    columns.update(record.keys())\n",
    "print(columns)\n",
    "\n",
    "df_Users = pd.DataFrame(columns=list(columns))\n",
    "rows = []\n",
    "for record in users:\n",
    "    rows.append(record)\n",
    "df_Users = pd.concat([df_Users, pd.DataFrame(rows)], ignore_index=True)\n",
    "print(df_Users.head())\n",
    "\n",
    "df_Users.to_csv('../data/Users.csv')\n",
    "df_Users.to_pickle('../data/Users.pkl')"
   ]
  },
  {
   "cell_type": "markdown",
   "metadata": {},
   "source": [
    "### Create Brands table\n",
    "1. Convert brands.json file to dataframe df_Brands </br>\n",
    "2. Store to `../data/Brands.csv`"
   ]
  },
  {
   "cell_type": "code",
   "execution_count": 129,
   "metadata": {},
   "outputs": [
    {
     "name": "stdout",
     "output_type": "stream",
     "text": [
      "{'topBrand', 'category', 'categoryCode', 'barcode', 'name', 'cpg', '_id', 'brandCode'}\n",
      "  topBrand        category      categoryCode       barcode  \\\n",
      "0    False          Baking            BAKING  511111019862   \n",
      "1    False       Beverages         BEVERAGES  511111519928   \n",
      "2    False          Baking            BAKING  511111819905   \n",
      "3    False          Baking            BAKING  511111519874   \n",
      "4    False  Candy & Sweets  CANDY_AND_SWEETS  511111319917   \n",
      "\n",
      "                        name  \\\n",
      "0  test brand @1612366101024   \n",
      "1                  Starbucks   \n",
      "2  test brand @1612366146176   \n",
      "3  test brand @1612366146051   \n",
      "4  test brand @1612366146827   \n",
      "\n",
      "                                                 cpg  \\\n",
      "0  {'$id': {'$oid': '601ac114be37ce2ead437550'}, ...   \n",
      "1  {'$id': {'$oid': '5332f5fbe4b03c9a25efd0ba'}, ...   \n",
      "2  {'$id': {'$oid': '601ac142be37ce2ead437559'}, ...   \n",
      "3  {'$id': {'$oid': '601ac142be37ce2ead437559'}, ...   \n",
      "4  {'$id': {'$oid': '5332fa12e4b03c9a25efd1e7'}, ...   \n",
      "\n",
      "                                    _id                      brandCode  \n",
      "0  {'$oid': '601ac115be37ce2ead437551'}                            NaN  \n",
      "1  {'$oid': '601c5460be37ce2ead43755f'}                      STARBUCKS  \n",
      "2  {'$oid': '601ac142be37ce2ead43755d'}  TEST BRANDCODE @1612366146176  \n",
      "3  {'$oid': '601ac142be37ce2ead43755a'}  TEST BRANDCODE @1612366146051  \n",
      "4  {'$oid': '601ac142be37ce2ead43755e'}  TEST BRANDCODE @1612366146827  \n"
     ]
    }
   ],
   "source": [
    "columns = set()\n",
    "for record in brands:\n",
    "    columns.update(record.keys())\n",
    "print(columns)\n",
    "\n",
    "df_Brands = pd.DataFrame(columns=list(columns))\n",
    "rows = []\n",
    "for record in brands:\n",
    "    rows.append(record)\n",
    "df_Brands = pd.concat([df_Brands, pd.DataFrame(rows)], ignore_index=True)\n",
    "print(df_Brands.head())\n",
    "\n",
    "df_Brands.to_csv('../data/Brands.csv')\n",
    "df_Brands.to_pickle('../data/Brands.pkl')"
   ]
  }
 ],
 "metadata": {
  "kernelspec": {
   "display_name": "fetch_project_kernel",
   "language": "python",
   "name": "fetch_project_kernel"
  },
  "language_info": {
   "codemirror_mode": {
    "name": "ipython",
    "version": 3
   },
   "file_extension": ".py",
   "mimetype": "text/x-python",
   "name": "python",
   "nbconvert_exporter": "python",
   "pygments_lexer": "ipython3",
   "version": "3.9.18"
  }
 },
 "nbformat": 4,
 "nbformat_minor": 2
}
